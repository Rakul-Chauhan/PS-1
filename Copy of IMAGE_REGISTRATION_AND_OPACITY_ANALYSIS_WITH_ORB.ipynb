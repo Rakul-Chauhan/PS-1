{
  "nbformat": 4,
  "nbformat_minor": 0,
  "metadata": {
    "colab": {
      "provenance": []
    },
    "kernelspec": {
      "name": "python3",
      "display_name": "Python 3"
    },
    "language_info": {
      "name": "python"
    }
  },
  "cells": [
    {
      "cell_type": "code",
      "execution_count": null,
      "metadata": {
        "colab": {
          "base_uri": "https://localhost:8080/"
        },
        "id": "qdyxD1nR5KFz",
        "outputId": "5643de76-e7d9-444c-ba06-3ae6dcf77310"
      },
      "outputs": [
        {
          "output_type": "stream",
          "name": "stdout",
          "text": [
            "Collecting SimpleITK\n",
            "  Downloading SimpleITK-2.2.1-cp310-cp310-manylinux_2_17_x86_64.manylinux2014_x86_64.whl (52.7 MB)\n",
            "\u001b[2K     \u001b[90m━━━━━━━━━━━━━━━━━━━━━━━━━━━━━━━━━━━━━━━━\u001b[0m \u001b[32m52.7/52.7 MB\u001b[0m \u001b[31m13.8 MB/s\u001b[0m eta \u001b[36m0:00:00\u001b[0m\n",
            "\u001b[?25hInstalling collected packages: SimpleITK\n",
            "Successfully installed SimpleITK-2.2.1\n"
          ]
        }
      ],
      "source": [
        "!pip install SimpleITK"
      ]
    },
    {
      "cell_type": "code",
      "source": [
        "import cv2\n",
        "import numpy as np\n",
        "import SimpleITK as sitk\n",
        "from PIL import Image\n",
        "import nibabel as nib"
      ],
      "metadata": {
        "id": "KmIP3KZdyxaL"
      },
      "execution_count": null,
      "outputs": []
    },
    {
      "cell_type": "code",
      "source": [
        "def register_images(ref_image_path, moving_image_path, output_path):\n",
        "    # Load the fixed and moving images\n",
        "    ref_image = cv2.imread(ref_image_path)  # Load as color\n",
        "    moving_image = cv2.imread(moving_image_path)  # Load as color\n",
        "\n",
        "    # Convert the images to grayscale for optical flow calculation\n",
        "    ref_image_gray = cv2.cvtColor(ref_image, cv2.COLOR_BGR2GRAY)\n",
        "    moving_image_gray = cv2.cvtColor(moving_image, cv2.COLOR_BGR2GRAY)\n",
        "\n",
        "    # Calculate the optical flow using Farneback method\n",
        "    flow = cv2.calcOpticalFlowFarneback(ref_image_gray, moving_image_gray, None, 0.5, 3, 15, 3, 5, 1.2, 0)\n",
        "\n",
        "    # Warp the moving image using the flow field\n",
        "    rows, cols, _ = ref_image.shape\n",
        "    warped_image = np.zeros_like(ref_image)\n",
        "    for i in range(rows):\n",
        "        for j in range(cols):\n",
        "            dx, dy = flow[i, j]\n",
        "\n",
        "            # Avoid out-of-bounds indices\n",
        "            warped_i = min(max(int(i+dy), 0), rows-1)\n",
        "            warped_j = min(max(int(j+dx), 0), cols-1)\n",
        "\n",
        "            warped_image[warped_i, warped_j] = moving_image[i, j]\n",
        "\n",
        "    # Save the registered image to the output path\n",
        "    cv2.imwrite(output_path, warped_image)"
      ],
      "metadata": {
        "id": "LcJJNoZp7RfR"
      },
      "execution_count": null,
      "outputs": []
    },
    {
      "cell_type": "code",
      "source": [
        "def register(ref_image_path, moving_image_path, output_path):\n",
        "    # Load the fixed and moving images\n",
        "    ref_image = cv2.imread(ref_image_path)  # Load as color\n",
        "    moving_image = cv2.imread(moving_image_path)  # Load as color\n",
        "\n",
        "    # Convert the images to grayscale for optical flow calculation\n",
        "    img1 = cv2.cvtColor(ref_image, cv2.COLOR_BGR2GRAY)\n",
        "    img2 = cv2.cvtColor(moving_image, cv2.COLOR_BGR2GRAY)\n",
        "\n",
        "    # Warp the moving image using the flow field\n",
        "    height,width = img1.shape\n",
        "\n",
        "    orb_detector = cv2.ORB_create(800)\n",
        "\n",
        "    # Extract key points and descriptors for both images\n",
        "    kp1, des1 = orb_detector.detectAndCompute(img2, None)\n",
        "    kp2, des2 = orb_detector.detectAndCompute(img1, None)\n",
        "\n",
        "    # Display keypoints for reference image in green color\n",
        "    imgKp_Ref = cv2.drawKeypoints(img1, kp1, 0, (0,222,0), None)\n",
        "    cv2.imwrite('/content/keypoints.jpg', imgKp_Ref)\n",
        "\n",
        "    matcher = cv2.BFMatcher(cv2.NORM_HAMMING, crossCheck=True)\n",
        "\n",
        "    # Match the two sets of descriptors.\n",
        "    matches = matcher.match(des1, des2)\n",
        "\n",
        "    # Sort matches on the basis of their Hamming distance.\n",
        "    matches = sorted(matches, key=lambda x: x.distance)\n",
        "\n",
        "    # Take the top 90 % matches forward.\n",
        "    matches = matches[:int(len(matches) * 0.9)]\n",
        "    no_of_matches = len(matches)\n",
        "    print(len(matches))\n",
        "\n",
        "    # Display only 100 best matches {good[:100}\n",
        "    imgMatch = cv2.drawMatches(img2, kp2, img1, kp1, matches[:100], None, flags = 2)\n",
        "    cv2.imwrite('/content/matches.jpg', imgMatch)\n",
        "\n",
        "    # Define empty matrices of shape no_of_matches * 2.\n",
        "    p1 = np.zeros((no_of_matches, 2))\n",
        "    p2 = np.zeros((no_of_matches, 2))\n",
        "\n",
        "    for i in range(len(matches)):\n",
        "      p1[i, :] = kp1[matches[i].queryIdx].pt\n",
        "      p2[i, :] = kp2[matches[i].trainIdx].pt\n",
        "\n",
        "    # Find the homography matrix.\n",
        "    homography, mask = cv2.findHomography(p1, p2, cv2.RANSAC)\n",
        "\n",
        "    # Use this matrix to transform the\n",
        "    # colored image wrt the reference image.\n",
        "    warped_img = cv2.warpPerspective(moving_image,\n",
        "                    homography, (width, height))\n",
        "\n",
        "    # Save the registered image to the output path\n",
        "    cv2.imwrite(output_path, warped_img)"
      ],
      "metadata": {
        "id": "k8Zj6rPm1pgd"
      },
      "execution_count": null,
      "outputs": []
    },
    {
      "cell_type": "code",
      "source": [
        "# Usage example\n",
        "fixed_image_path = '/content/AEB1.jpg'\n",
        "moving_image_path = '/content/AEB0.jpg'\n",
        "output_path = '/content/aligned.jpg'\n",
        "\n",
        "# register_images(fixed_image_path, moving_image_path, output_path)\n",
        "register(fixed_image_path, moving_image_path, output_path)"
      ],
      "metadata": {
        "colab": {
          "base_uri": "https://localhost:8080/"
        },
        "id": "cyqvC-oTyosn",
        "outputId": "6bfc5a4b-2a05-4773-d82e-2baa25f657eb"
      },
      "execution_count": null,
      "outputs": [
        {
          "output_type": "stream",
          "name": "stdout",
          "text": [
            "216\n"
          ]
        }
      ]
    },
    {
      "cell_type": "code",
      "source": [
        "import cv2\n",
        "import numpy as np\n",
        "\n",
        "def opacity_analysis(image1_path, image2_path, output_path):\n",
        "    # Load the images\n",
        "    image1 = cv2.imread(image1_path)\n",
        "    image2 = cv2.imread(image2_path)\n",
        "\n",
        "    # Split the images into channels\n",
        "    b1, g1, r1 = cv2.split(image1)\n",
        "    b2, g2, r2 = cv2.split(image2)\n",
        "\n",
        "    # Subtract the blue and green channels\n",
        "    bg_diff = cv2.subtract(b1, b2)\n",
        "    gg_diff = cv2.subtract(g1, g2)\n",
        "\n",
        "    # Create a new image with blue and green channels\n",
        "    result = cv2.merge((bg_diff, gg_diff, np.zeros_like(r1)))\n",
        "\n",
        "    # Save the resulting image\n",
        "    cv2.imwrite(output_path, result)\n",
        "\n",
        "\n",
        "# Usage example\n",
        "image1_path = '/content/AEB1.jpg'\n",
        "image2_path = '/content/aligned.jpg'\n",
        "output_path = '/content/outputopacity.jpg'\n",
        "opacity_analysis(image1_path, image2_path, output_path)"
      ],
      "metadata": {
        "id": "y3PkACXFAFl0"
      },
      "execution_count": null,
      "outputs": []
    },
    {
      "cell_type": "code",
      "source": [],
      "metadata": {
        "id": "IwNWxlfyq49l"
      },
      "execution_count": null,
      "outputs": []
    }
  ]
}